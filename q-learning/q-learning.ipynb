{
 "cells": [
  {
   "cell_type": "markdown",
   "metadata": {},
   "source": [
    "# Q-learning Environment"
   ]
  },
  {
   "cell_type": "code",
   "execution_count": 3,
   "metadata": {},
   "outputs": [],
   "source": [
    "import numpy as np\n",
    "import random as rand"
   ]
  },
  {
   "cell_type": "markdown",
   "metadata": {},
   "source": [
    "# Giocatore"
   ]
  },
  {
   "cell_type": "code",
   "execution_count": 4,
   "metadata": {},
   "outputs": [],
   "source": [
    "class Giocatore():\n",
    "    punteggio = 0\n",
    "\n",
    "    def __init__(self):\n",
    "        self.mano = []"
   ]
  },
  {
   "cell_type": "markdown",
   "metadata": {},
   "source": [
    "# Carta"
   ]
  },
  {
   "cell_type": "code",
   "execution_count": 30,
   "metadata": {},
   "outputs": [],
   "source": [
    "class Carta():\n",
    "    \n",
    "    semi = [\"denara\", \"bastoni\", \"spade\", \"coppe\"]\n",
    "\n",
    "    def __init__(self, seme, valore):\n",
    "        self.seme = seme\n",
    "        self.valore = valore\n",
    "        \n",
    "        if valore == 1:\n",
    "            self.punti = 11\n",
    "        elif valore == 3:\n",
    "            self.punti = 10\n",
    "        elif valore > 7:\n",
    "            self.punti = valore - 6\n",
    "        else:\n",
    "            self.punti = 0"
   ]
  },
  {
   "cell_type": "markdown",
   "metadata": {},
   "source": [
    "# Mazzo"
   ]
  },
  {
   "cell_type": "code",
   "execution_count": 31,
   "metadata": {},
   "outputs": [],
   "source": [
    "class Mazzo():\n",
    "    \n",
    "    def __init__(self):\n",
    "        self.carte = self.creaCarte()\n",
    "        rand.shuffle(self.carte)\n",
    "    \n",
    "    def pesca(self):\n",
    "        return self.carte.pop(0)\n",
    "    \n",
    "    def creaCarte(self):\n",
    "        temp = []\n",
    "        resto = 0\n",
    "        for i in range (1,41):\n",
    "            resto = i%10\n",
    "            temp.append(Carta(Carta.semi[i//11], resto if resto != 0 else 10))\n",
    "        return temp"
   ]
  },
  {
   "cell_type": "markdown",
   "metadata": {},
   "source": [
    "# Partita"
   ]
  },
  {
   "cell_type": "code",
   "execution_count": 32,
   "metadata": {},
   "outputs": [],
   "source": [
    "class Partita():\n",
    "    \n",
    "    def __init__(self):\n",
    "        self.giocatore1 = Giocatore()\n",
    "        self.giocatore2 = Giocatore()\n",
    "        self.mazzo = Mazzo()\n",
    "        self.briscola = \"\"\n",
    "\n",
    "    def isFinita(self):\n",
    "        if self.giocatore1.punteggio + self.giocatore2.punteggio == 120:\n",
    "            return True\n",
    "        return False\n",
    "    \n",
    "    def iniziaPartita(self):\n",
    "        for i in range (0,3):\n",
    "            prima_carta = self.mazzo.carte.pop(0)\n",
    "            seconda_carta = self.mazzo.carte.pop(0)\n",
    "            self.giocatore1.mano.append(prima_carta)\n",
    "            self.giocatore2.mano.append(seconda_carta)\n",
    "        ultima_carta = self.mazzo.carte.pop(0)\n",
    "        self.mazzo.carte.append(ultima_carta)\n",
    "        self.briscola = ultima_carta.seme"
   ]
  },
  {
   "cell_type": "markdown",
   "metadata": {},
   "source": [
    "# Test"
   ]
  },
  {
   "cell_type": "code",
   "execution_count": 46,
   "metadata": {},
   "outputs": [
    {
     "name": "stdout",
     "output_type": "stream",
     "text": [
      "bastoni\n",
      "1\n",
      "11\n"
     ]
    }
   ],
   "source": [
    "partita = Partita()\n",
    "partita.iniziaPartita()\n",
    "len(partita.giocatore1.mano)\n",
    "len(partita.giocatore2.mano)\n",
    "print(partita.giocatore1.mano[0].seme)\n",
    "print(partita.giocatore1.mano[0].valore)\n",
    "print(partita.giocatore1.mano[0].punti)"
   ]
  }
 ],
 "metadata": {
  "kernelspec": {
   "display_name": "briscola",
   "language": "python",
   "name": "python3"
  },
  "language_info": {
   "codemirror_mode": {
    "name": "ipython",
    "version": 3
   },
   "file_extension": ".py",
   "mimetype": "text/x-python",
   "name": "python",
   "nbconvert_exporter": "python",
   "pygments_lexer": "ipython3",
   "version": "3.10.12"
  },
  "orig_nbformat": 4
 },
 "nbformat": 4,
 "nbformat_minor": 2
}
