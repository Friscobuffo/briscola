{
 "cells": [
  {
   "cell_type": "markdown",
   "metadata": {},
   "source": [
    "# Dominio applicativo\n",
    "il dominio prevede 4 classi: [Mazzo] [Partita] [Giocatore] [Sarsa]"
   ]
  },
  {
   "cell_type": "code",
   "execution_count": 51,
   "metadata": {},
   "outputs": [],
   "source": [
    "from random import randint, random, shuffle\n",
    "from time import time, sleep\n",
    "import pickle\n",
    "import os"
   ]
  },
  {
   "cell_type": "markdown",
   "metadata": {},
   "source": [
    "# Mazzo"
   ]
  },
  {
   "cell_type": "code",
   "execution_count": 52,
   "metadata": {},
   "outputs": [],
   "source": [
    "class Mazzo():\n",
    "    # mazzo di carte, ogni carta assume valore tra 0 a 39\n",
    "    # le decine rappresentano i semi\n",
    "    # le unità rappresentano i valori\n",
    "    def __init__(self):\n",
    "        self.carte = [i for i in range(0,40)]\n",
    "        # si randomizza il mazzo\n",
    "        shuffle(self.carte)\n",
    "\n",
    "    def carteRimaste(self):\n",
    "        return len(self.carte)\n",
    "    \n",
    "    def getUltimaCarta(self):\n",
    "        return self.carte[-1]\n",
    "\n",
    "    def pesca(self):\n",
    "        return self.carte.pop(0)\n",
    "\n",
    "    def reset(self):\n",
    "        self.__init__()"
   ]
  },
  {
   "cell_type": "markdown",
   "metadata": {},
   "source": [
    "# Giocatore"
   ]
  },
  {
   "cell_type": "code",
   "execution_count": 53,
   "metadata": {},
   "outputs": [],
   "source": [
    "class Giocatore():\n",
    "\n",
    "    def __init__(self, tipo = 0):\n",
    "        self.mano = []\n",
    "        self.punti = 0\n",
    "        # tipo indica la modalità con cui viene scleta la mossa del giocatore\n",
    "        # tipo 0 -> giocatore post-apprendimento\n",
    "        # tipo 1 -> giocaore apprendimento \n",
    "        # tipo 2 -> giocatore casuale\n",
    "        self.tipo = tipo\n",
    "    \n",
    "    def reset(self):\n",
    "        self.mano = []\n",
    "        self.punti = 0\n",
    "\n",
    "    def pesca(self, mazzo):\n",
    "        self.mano.append(mazzo.pesca())\n",
    "    \n",
    "    # restituisce un intero tra quelli presenti nella mano\n",
    "    def gioca(self, giocataAvversario = None):\n",
    "        match self.tipo:\n",
    "            case 0: return self.mossaOttimale(giocataAvversario)\n",
    "            case 1: return self.apprendi(giocataAvversario)\n",
    "            case 2: return self.mossaCasuale()\n",
    "        \n",
    "    def mossaOttimale(self, giocataAvversario):\n",
    "        # gestione della mossa scelta tramite la policy ottima\n",
    "        return\n",
    "\n",
    "    def apprendi(self, giocataAvversario):\n",
    "        # gestione apprendimento\n",
    "        return\n",
    "    \n",
    "    def mossaCasuale(self):\n",
    "        n = randint(0, 2)\n",
    "        return self.mano.pop(n)\n",
    "\n",
    "    def setPunti(self, punti):\n",
    "        self.punti += punti\n",
    "    \n",
    "    def getPunti(self):\n",
    "        return self.punti\n",
    "\n",
    "    # gestisci reward\n",
    "    def setReward(self, reward):\n",
    "        # TO_DO\n",
    "        return"
   ]
  },
  {
   "cell_type": "markdown",
   "metadata": {},
   "source": [
    "# Sarsa"
   ]
  },
  {
   "cell_type": "code",
   "execution_count": null,
   "metadata": {},
   "outputs": [],
   "source": [
    "class Sarsa():\n",
    "\n",
    "    def __init__(self):\n",
    "        pass"
   ]
  },
  {
   "cell_type": "markdown",
   "metadata": {},
   "source": [
    "# Gioco"
   ]
  },
  {
   "cell_type": "code",
   "execution_count": 54,
   "metadata": {},
   "outputs": [],
   "source": [
    "class Gioco():\n",
    "    \n",
    "    WIN_REWARD = 200\n",
    "\n",
    "    # tipo indica il tipo dei giocatori che giocano la partita\n",
    "    # tipo 0 -> giocatore post-apprendimento\n",
    "    # tipo 1 -> giocaore apprendimento \n",
    "    # tipo 2 -> giocatore casuale\n",
    "    def __init__(self, tipo1 = 0, tipo2 = 0):\n",
    "        self.giocatori = (Giocatore(tipo1), Giocatore(tipo2))\n",
    "        self.vittorie = (0,0)\n",
    "        self.mazzo = Mazzo()\n",
    "        self.briscola = self.mazzo.getUltimaCarta()\n",
    "        self.diTurno = 0\n",
    "    \n",
    "    def reset(self):\n",
    "        for i in range(0,1):\n",
    "            self.giocatori[i].reset()\n",
    "        \n",
    "        self.mazzo.reset()\n",
    "        # si alterna il giocatore che inizia\n",
    "        self.diTurno = (self.diTurno + 1) % 2 \n",
    "\n",
    "    def pesca(self):\n",
    "        self.giocatori[self.diTurno].pesca(self.mazzo)\n",
    "        self.giocatori[(self.diTurno + 1) % 2]\n",
    "    \n",
    "    def partita(self):\n",
    "        # i giocatori pescano 3 carte\n",
    "        for _ in range(0, 3):\n",
    "            self.giocatori[self.diTurno].pesca(self.mazzo)\n",
    "            self.giocatori[(self.diTurno + 1) % 2].pesca(self.mazzo)\n",
    "\n",
    "        while(self.mazzo.carteRimaste() > 0):\n",
    "            self.turno()\n",
    "\n",
    "            # controllo la vittoria o il fine partita\n",
    "            if(self.giocatori[0].getPunti() > 60): \n",
    "                self.vittorie = (self.vittorie[0]+1, self.vittorie[1])\n",
    "                self.giocatori[0].setReward(self.WIN_REWARD)\n",
    "                break\n",
    "\n",
    "            if(self.giocatori[1].getPunti() > 60): \n",
    "                self.vittorie = (self.vittorie[0], self.vittorie[1]+1)\n",
    "                self.giocatori[0].setReward(self.WIN_REWARD)\n",
    "                break\n",
    "\n",
    "        self.reset()\n",
    "        # a scopo di debug\n",
    "        print(self.vittorie) \n",
    "    \n",
    "    def turno(self):\n",
    "        # il secondo giocatore conosce la giocata del primo\n",
    "        primaGiocata = self.giocatori[self.diTurno].gioca()\n",
    "        giocate = (primaGiocata, self.giocatori[(self.diTurno + 1) % 2].gioca(primaGiocata))\n",
    "        \n",
    "        # valutazione = (vincitore, punti)\n",
    "        valutazione = self.valutaGiocate(giocate)\n",
    "\n",
    "        # aggiorno il giocatore di turno\n",
    "        self.diTurno = valutazione[0]\n",
    "\n",
    "        # assegno punti e reward ai giocatori\n",
    "        self.giocatori[valutazione[0]].setPunti(valutazione[1])\n",
    "        self.giocatori[valutazione[0]].setReward(valutazione[1])\n",
    "        self.giocatori[(valutazione[0] + 1) % 2].setReward(-valutazione[1])\n",
    "\n",
    "        # ridistribuisco le carte\n",
    "        self.giocatori[self.diTurno].pesca(self.mazzo)\n",
    "        self.giocatori[(self.diTurno + 1) % 2].pesca(self.mazzo)      \n",
    "\n",
    "    # restituisce la tupla (vincitore, punti)   \n",
    "    def valutaGiocate(self, giocate):\n",
    "        semi = (giocate[0]//10, giocate[1]//10)\n",
    "        punti = (self.calcolaPunti(giocate[0]), self.calcolaPunti(giocate[1]))\n",
    "\n",
    "        if semi[0] == semi[1]:\n",
    "            # 0 -> giocatore di turno\n",
    "            if giocate[0] > giocate[1]: return (self.diTurno, punti[0] + punti[1])\n",
    "            return ((self.diTurno + 1) % 2, punti[0] + punti[1])\n",
    "\n",
    "        if semi[1] == self.briscola//10: return ((self.diTurno + 1) % 2, punti[0] + punti[1])\n",
    "        return (self.diTurno, punti[0] + punti[1])\n",
    "\n",
    "    def calcolaPunti(self, giocata):\n",
    "        valore = giocata%10 + 1\n",
    "        if valore == 1: return 11\n",
    "        if valore == 3: return 10\n",
    "        if valore < 8: return 0\n",
    "        return valore - 6"
   ]
  },
  {
   "cell_type": "code",
   "execution_count": 59,
   "metadata": {},
   "outputs": [
    {
     "name": "stdout",
     "output_type": "stream",
     "text": [
      "(0, 1)\n"
     ]
    }
   ],
   "source": [
    "gioco = Gioco(2, 2)\n",
    "gioco.partita()"
   ]
  }
 ],
 "metadata": {
  "kernelspec": {
   "display_name": "briscola",
   "language": "python",
   "name": "python3"
  },
  "language_info": {
   "codemirror_mode": {
    "name": "ipython",
    "version": 3
   },
   "file_extension": ".py",
   "mimetype": "text/x-python",
   "name": "python",
   "nbconvert_exporter": "python",
   "pygments_lexer": "ipython3",
   "version": "3.10.12"
  },
  "orig_nbformat": 4
 },
 "nbformat": 4,
 "nbformat_minor": 2
}
